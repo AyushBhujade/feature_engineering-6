{
 "cells": [
  {
   "cell_type": "markdown",
   "id": "deb08e70-ad9f-4706-a81b-b92ab1843493",
   "metadata": {},
   "source": [
    "# Quation 1"
   ]
  },
  {
   "cell_type": "code",
   "execution_count": 1,
   "id": "90a4b4f9-f1f1-4f8f-8632-60b922617254",
   "metadata": {},
   "outputs": [],
   "source": [
    "import numpy as np"
   ]
  },
  {
   "cell_type": "code",
   "execution_count": 2,
   "id": "6524dd77-3239-47b9-970b-0d032e83060e",
   "metadata": {},
   "outputs": [
    {
     "name": "stdout",
     "output_type": "stream",
     "text": [
      "[[1.         0.98546791]\n",
      " [0.98546791 1.        ]]\n"
     ]
    }
   ],
   "source": [
    "# amount of time students spend studying for an exam\n",
    "time_spend=[7,5,6,8,4,2,6,4]\n",
    "# final exam score\n",
    "score=[85,60,69,90,55,40,69,55]\n",
    "relation=np.corrcoef(time_spend,score)\n",
    "print(relation)"
   ]
  },
  {
   "cell_type": "markdown",
   "id": "dd8671c1-ddaa-4a44-a6fa-03744250ee19",
   "metadata": {},
   "source": [
    "# Quation 2"
   ]
  },
  {
   "cell_type": "code",
   "execution_count": 3,
   "id": "ed9eb000-9f0e-48b7-97ce-2ddca25eb54f",
   "metadata": {},
   "outputs": [],
   "source": [
    "import pandas as pd"
   ]
  },
  {
   "cell_type": "code",
   "execution_count": 4,
   "id": "5fe370bd-f683-4549-965d-7dab0ce43b7b",
   "metadata": {},
   "outputs": [],
   "source": [
    "df=pd.DataFrame({\"sleep_time\":[8,7,9,5,4,6],\"satisfaction_level\":[9,8.5,9,7,6,7.5]})"
   ]
  },
  {
   "cell_type": "code",
   "execution_count": 5,
   "id": "e6e17df7-4238-4483-a00f-16a7149fc1b8",
   "metadata": {},
   "outputs": [
    {
     "data": {
      "text/html": [
       "<div>\n",
       "<style scoped>\n",
       "    .dataframe tbody tr th:only-of-type {\n",
       "        vertical-align: middle;\n",
       "    }\n",
       "\n",
       "    .dataframe tbody tr th {\n",
       "        vertical-align: top;\n",
       "    }\n",
       "\n",
       "    .dataframe thead th {\n",
       "        text-align: right;\n",
       "    }\n",
       "</style>\n",
       "<table border=\"1\" class=\"dataframe\">\n",
       "  <thead>\n",
       "    <tr style=\"text-align: right;\">\n",
       "      <th></th>\n",
       "      <th>sleep_time</th>\n",
       "      <th>satisfaction_level</th>\n",
       "    </tr>\n",
       "  </thead>\n",
       "  <tbody>\n",
       "    <tr>\n",
       "      <th>sleep_time</th>\n",
       "      <td>1.000000</td>\n",
       "      <td>0.985611</td>\n",
       "    </tr>\n",
       "    <tr>\n",
       "      <th>satisfaction_level</th>\n",
       "      <td>0.985611</td>\n",
       "      <td>1.000000</td>\n",
       "    </tr>\n",
       "  </tbody>\n",
       "</table>\n",
       "</div>"
      ],
      "text/plain": [
       "                    sleep_time  satisfaction_level\n",
       "sleep_time            1.000000            0.985611\n",
       "satisfaction_level    0.985611            1.000000"
      ]
     },
     "execution_count": 5,
     "metadata": {},
     "output_type": "execute_result"
    }
   ],
   "source": [
    "df.corr(method='spearman')"
   ]
  },
  {
   "cell_type": "markdown",
   "id": "e13ecd07-ece0-402d-a615-211916d85c04",
   "metadata": {},
   "source": [
    "# Quation 3"
   ]
  },
  {
   "cell_type": "code",
   "execution_count": 6,
   "id": "7f4a29dd-8f32-4d8e-9867-9968fb7335fe",
   "metadata": {},
   "outputs": [],
   "source": [
    "exercies_time=np.random.randint(0,8,50)\n",
    "BMI=np.random.randint(1,10,50)"
   ]
  },
  {
   "cell_type": "code",
   "execution_count": 29,
   "id": "4a4d8529-380a-4a54-87d7-fc4999c44607",
   "metadata": {},
   "outputs": [],
   "source": [
    "df=pd.DataFrame({\"exercies_time\":exercies_time,\"BMI\":BMI})"
   ]
  },
  {
   "cell_type": "code",
   "execution_count": 32,
   "id": "5f62c149-21a0-4d54-99cb-e65ae1ca01f5",
   "metadata": {},
   "outputs": [
    {
     "data": {
      "text/html": [
       "<div>\n",
       "<style scoped>\n",
       "    .dataframe tbody tr th:only-of-type {\n",
       "        vertical-align: middle;\n",
       "    }\n",
       "\n",
       "    .dataframe tbody tr th {\n",
       "        vertical-align: top;\n",
       "    }\n",
       "\n",
       "    .dataframe thead th {\n",
       "        text-align: right;\n",
       "    }\n",
       "</style>\n",
       "<table border=\"1\" class=\"dataframe\">\n",
       "  <thead>\n",
       "    <tr style=\"text-align: right;\">\n",
       "      <th></th>\n",
       "      <th>exercies_time</th>\n",
       "      <th>BMI</th>\n",
       "    </tr>\n",
       "  </thead>\n",
       "  <tbody>\n",
       "    <tr>\n",
       "      <th>exercies_time</th>\n",
       "      <td>1.00000</td>\n",
       "      <td>-0.00789</td>\n",
       "    </tr>\n",
       "    <tr>\n",
       "      <th>BMI</th>\n",
       "      <td>-0.00789</td>\n",
       "      <td>1.00000</td>\n",
       "    </tr>\n",
       "  </tbody>\n",
       "</table>\n",
       "</div>"
      ],
      "text/plain": [
       "               exercies_time      BMI\n",
       "exercies_time        1.00000 -0.00789\n",
       "BMI                 -0.00789  1.00000"
      ]
     },
     "execution_count": 32,
     "metadata": {},
     "output_type": "execute_result"
    }
   ],
   "source": [
    "df.corr(method='pearson')"
   ]
  },
  {
   "cell_type": "code",
   "execution_count": 33,
   "id": "8e3294af-a92d-441e-81c0-03ae00bf6d00",
   "metadata": {},
   "outputs": [
    {
     "data": {
      "text/html": [
       "<div>\n",
       "<style scoped>\n",
       "    .dataframe tbody tr th:only-of-type {\n",
       "        vertical-align: middle;\n",
       "    }\n",
       "\n",
       "    .dataframe tbody tr th {\n",
       "        vertical-align: top;\n",
       "    }\n",
       "\n",
       "    .dataframe thead th {\n",
       "        text-align: right;\n",
       "    }\n",
       "</style>\n",
       "<table border=\"1\" class=\"dataframe\">\n",
       "  <thead>\n",
       "    <tr style=\"text-align: right;\">\n",
       "      <th></th>\n",
       "      <th>exercies_time</th>\n",
       "      <th>BMI</th>\n",
       "    </tr>\n",
       "  </thead>\n",
       "  <tbody>\n",
       "    <tr>\n",
       "      <th>exercies_time</th>\n",
       "      <td>1.000000</td>\n",
       "      <td>-0.022923</td>\n",
       "    </tr>\n",
       "    <tr>\n",
       "      <th>BMI</th>\n",
       "      <td>-0.022923</td>\n",
       "      <td>1.000000</td>\n",
       "    </tr>\n",
       "  </tbody>\n",
       "</table>\n",
       "</div>"
      ],
      "text/plain": [
       "               exercies_time       BMI\n",
       "exercies_time       1.000000 -0.022923\n",
       "BMI                -0.022923  1.000000"
      ]
     },
     "execution_count": 33,
     "metadata": {},
     "output_type": "execute_result"
    }
   ],
   "source": [
    "df.corr(method='spearman')"
   ]
  },
  {
   "cell_type": "markdown",
   "id": "a5da698b-311a-4649-a0f3-d9865a2a6ee1",
   "metadata": {},
   "source": [
    "# Quation 4"
   ]
  },
  {
   "cell_type": "code",
   "execution_count": 34,
   "id": "fa3cfecf-b6ae-47f9-9044-3d7530a9f0fa",
   "metadata": {},
   "outputs": [
    {
     "data": {
      "text/html": [
       "<div>\n",
       "<style scoped>\n",
       "    .dataframe tbody tr th:only-of-type {\n",
       "        vertical-align: middle;\n",
       "    }\n",
       "\n",
       "    .dataframe tbody tr th {\n",
       "        vertical-align: top;\n",
       "    }\n",
       "\n",
       "    .dataframe thead th {\n",
       "        text-align: right;\n",
       "    }\n",
       "</style>\n",
       "<table border=\"1\" class=\"dataframe\">\n",
       "  <thead>\n",
       "    <tr style=\"text-align: right;\">\n",
       "      <th></th>\n",
       "      <th>time</th>\n",
       "      <th>physical_level</th>\n",
       "    </tr>\n",
       "  </thead>\n",
       "  <tbody>\n",
       "    <tr>\n",
       "      <th>time</th>\n",
       "      <td>1.000000</td>\n",
       "      <td>0.061163</td>\n",
       "    </tr>\n",
       "    <tr>\n",
       "      <th>physical_level</th>\n",
       "      <td>0.061163</td>\n",
       "      <td>1.000000</td>\n",
       "    </tr>\n",
       "  </tbody>\n",
       "</table>\n",
       "</div>"
      ],
      "text/plain": [
       "                    time  physical_level\n",
       "time            1.000000        0.061163\n",
       "physical_level  0.061163        1.000000"
      ]
     },
     "execution_count": 34,
     "metadata": {},
     "output_type": "execute_result"
    }
   ],
   "source": [
    "time=np.random.randint(1,24,50)\n",
    "physical_level=np.random.randint(1,10,50)\n",
    "df=pd.DataFrame({\"time\":time,\"physical_level\":physical_level})\n",
    "df.corr(method='pearson')"
   ]
  },
  {
   "cell_type": "markdown",
   "id": "bb5b8cbf-1c85-4fe6-a56d-8d5db80dcbab",
   "metadata": {},
   "source": [
    "# Quation 5"
   ]
  },
  {
   "cell_type": "code",
   "execution_count": null,
   "id": "61e90bc5-50d3-42b5-a1cc-831e7fd6670f",
   "metadata": {},
   "outputs": [],
   "source": [
    "Age=[25,42,37,19,31,28]\n",
    "Soft_drink_Preference=['coke','pepsi','mountain_duo','coke','pepsi','coke']\n",
    "# what is doing"
   ]
  },
  {
   "cell_type": "code",
   "execution_count": null,
   "id": "b8297b40-aa91-4301-bcd8-efa22a2172f6",
   "metadata": {},
   "outputs": [],
   "source": []
  },
  {
   "cell_type": "code",
   "execution_count": null,
   "id": "2425c547-4535-4e91-88e6-411f55a174e3",
   "metadata": {},
   "outputs": [],
   "source": []
  }
 ],
 "metadata": {
  "kernelspec": {
   "display_name": "Python 3 (ipykernel)",
   "language": "python",
   "name": "python3"
  },
  "language_info": {
   "codemirror_mode": {
    "name": "ipython",
    "version": 3
   },
   "file_extension": ".py",
   "mimetype": "text/x-python",
   "name": "python",
   "nbconvert_exporter": "python",
   "pygments_lexer": "ipython3",
   "version": "3.10.8"
  }
 },
 "nbformat": 4,
 "nbformat_minor": 5
}
